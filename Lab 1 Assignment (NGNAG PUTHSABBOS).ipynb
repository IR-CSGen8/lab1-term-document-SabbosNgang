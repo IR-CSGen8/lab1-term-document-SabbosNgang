{
 "cells": [
  {
   "cell_type": "code",
   "execution_count": 5,
   "id": "34e21f62",
   "metadata": {},
   "outputs": [],
   "source": [
    "# Define the documents as a dictionary where keys are document titles and values are document content\n",
    "documents = {\n",
    "    \"Article: Pandas Basics\": \"This article covers the basics of using Pandas in Python.\",\n",
    "    \"Tutorial: Data Visualization\": \"Learn about data visualization techniques with Python libraries.\",\n",
    "    \"Case Study: Sales Analysis\": \"Analyze sales data using Python for a real-world case study.\"\n",
    "}"
   ]
  },
  {
   "cell_type": "code",
   "execution_count": 57,
   "id": "ee8fdf0c",
   "metadata": {},
   "outputs": [
    {
     "data": {
      "text/plain": [
       "['Article: Pandas Basics',\n",
       " 'Tutorial: Data Visualization',\n",
       " 'Case Study: Sales Analysis']"
      ]
     },
     "execution_count": 57,
     "metadata": {},
     "output_type": "execute_result"
    }
   ],
   "source": [
    "# get the keys of the documents and store it in the list\n",
    "key_documents = list(documents.keys())\n",
    "\n",
    "# display the list of the key documents\n",
    "key_documents"
   ]
  },
  {
   "cell_type": "code",
   "execution_count": 56,
   "id": "e5398841",
   "metadata": {},
   "outputs": [
    {
     "name": "stdout",
     "output_type": "stream",
     "text": [
      "['Article']\n",
      "['Tutorial']\n",
      "['Case Study']\n"
     ]
    }
   ],
   "source": [
    "# Extract the category of the key documents and store it \n",
    "for doc_categories in key_documents:\n",
    "    documents_categories = [doc_categories.split(':')[0]]\n",
    "    print(documents_categories)"
   ]
  },
  {
   "cell_type": "code",
   "execution_count": 53,
   "id": "a5353707",
   "metadata": {},
   "outputs": [
    {
     "data": {
      "text/plain": [
       "['This article covers the basics of using Pandas in Python.',\n",
       " 'Learn about data visualization techniques with Python libraries.',\n",
       " 'Analyze sales data using Python for a real-world case study.']"
      ]
     },
     "execution_count": 53,
     "metadata": {},
     "output_type": "execute_result"
    }
   ],
   "source": [
    "\n",
    "# Extract the content values and put them in a list\n",
    "document_content_list = list(documents.values())\n",
    "\n",
    "# Display the list of document content\n",
    "document_content_list"
   ]
  },
  {
   "cell_type": "code",
   "execution_count": 49,
   "id": "bedcd86f",
   "metadata": {},
   "outputs": [
    {
     "data": {
      "text/plain": [
       "{'Analyze',\n",
       " 'Learn',\n",
       " 'Pandas',\n",
       " 'Python',\n",
       " 'Python.',\n",
       " 'This',\n",
       " 'a',\n",
       " 'about',\n",
       " 'article',\n",
       " 'basics',\n",
       " 'case',\n",
       " 'covers',\n",
       " 'data',\n",
       " 'for',\n",
       " 'in',\n",
       " 'libraries.',\n",
       " 'of',\n",
       " 'real-world',\n",
       " 'sales',\n",
       " 'study.',\n",
       " 'techniques',\n",
       " 'the',\n",
       " 'using',\n",
       " 'visualization',\n",
       " 'with'}"
      ]
     },
     "execution_count": 49,
     "metadata": {},
     "output_type": "execute_result"
    }
   ],
   "source": [
    "# Gather the set of all unique terms from the list content of document and diplay the result\n",
    "unique_terms = {term for doc in document_content_list for term in doc.split()}\n",
    "unique_terms"
   ]
  },
  {
   "cell_type": "code",
   "execution_count": 9,
   "id": "41334ffd",
   "metadata": {},
   "outputs": [
    {
     "data": {
      "text/plain": [
       "{'data': [0, 1, 1],\n",
       " 'with': [0, 1, 0],\n",
       " 'basics': [1, 0, 0],\n",
       " 'a': [1, 1, 1],\n",
       " 'covers': [1, 0, 0],\n",
       " 'Analyze': [0, 0, 1],\n",
       " 'Python.': [1, 0, 0],\n",
       " 'Pandas': [1, 0, 0],\n",
       " 'case': [0, 0, 1],\n",
       " 'of': [1, 0, 0],\n",
       " 'article': [1, 0, 0],\n",
       " 'This': [1, 0, 0],\n",
       " 'libraries.': [0, 1, 0],\n",
       " 'for': [0, 0, 1],\n",
       " 'in': [1, 0, 1],\n",
       " 'Learn': [0, 1, 0],\n",
       " 'using': [1, 0, 1],\n",
       " 'sales': [0, 0, 1],\n",
       " 'Python': [1, 1, 1],\n",
       " 'real-world': [0, 0, 1],\n",
       " 'study.': [0, 0, 1],\n",
       " 'the': [1, 0, 0],\n",
       " 'visualization': [0, 1, 0],\n",
       " 'techniques': [0, 1, 0],\n",
       " 'about': [0, 1, 0]}"
      ]
     },
     "execution_count": 9,
     "metadata": {},
     "output_type": "execute_result"
    }
   ],
   "source": [
    "# create a matrix for the document by using the unique term\n",
    "doc_term_matrix = {}\n",
    "\n",
    "# your code here\n",
    "for term in unique_terms:\n",
    "    doc_term_matrix[term] = []\n",
    "    \n",
    "    for doc in document_content_list:\n",
    "        if term in doc:\n",
    "            doc_term_matrix[term].append(1)\n",
    "        else: doc_term_matrix[term].append(0)\n",
    "\n",
    "# display the result of the matrix\n",
    "doc_term_matrix"
   ]
  },
  {
   "cell_type": "code",
   "execution_count": 10,
   "id": "a8a41b23",
   "metadata": {},
   "outputs": [
    {
     "name": "stdout",
     "output_type": "stream",
     "text": [
      "[1 0 0]\n",
      "[1 1 1]\n",
      "-------\n",
      "[1 0 0]\n"
     ]
    },
    {
     "data": {
      "text/plain": [
       "['This article covers the basics of using Pandas in Python.']"
      ]
     },
     "execution_count": 10,
     "metadata": {},
     "output_type": "execute_result"
    }
   ],
   "source": [
    "# import the numpy library if it doesn't work you need to install numpy\n",
    "import numpy as np\n",
    "\n",
    "docs_array = np.array(document_content_list, dtype='object')\n",
    "\n",
    "v1 = np.array(doc_term_matrix['the'])    \n",
    "v2 = np.array(doc_term_matrix['Python'])\n",
    "\n",
    "print(v1)\n",
    "print(v2)\n",
    "print('-------')\n",
    "\n",
    "# find the documents that have both terms from v1 and v2\n",
    "v3 = v1 & v2\n",
    "\n",
    "print(v3)\n",
    "\n",
    "# display the content document from the result\n",
    "[doc for doc in v3 * docs_array if doc]"
   ]
  },
  {
   "cell_type": "code",
   "execution_count": 14,
   "id": "11484192",
   "metadata": {},
   "outputs": [
    {
     "name": "stdout",
     "output_type": "stream",
     "text": [
      "[1 0 0]\n",
      "[1 1 1]\n",
      "-------\n",
      "[1 1 1]\n"
     ]
    },
    {
     "data": {
      "text/plain": [
       "['This article covers the basics of using Pandas in Python.',\n",
       " 'Learn about data visualization techniques with Python libraries.',\n",
       " 'Analyze sales data using Python for a real-world case study.']"
      ]
     },
     "execution_count": 14,
     "metadata": {},
     "output_type": "execute_result"
    }
   ],
   "source": [
    "# find the document for those have at least one word\n",
    "v1 = np.array(doc_term_matrix['the'])    \n",
    "v2 = np.array(doc_term_matrix['Python'])\n",
    "\n",
    "print(v1)\n",
    "print(v2)\n",
    "print('-------')\n",
    "v3 = v1 | v2\n",
    "\n",
    "print(v3)\n",
    "\n",
    "[doc for doc in v3 * docs_array if doc]"
   ]
  },
  {
   "cell_type": "code",
   "execution_count": 47,
   "metadata": {},
   "outputs": [
    {
     "name": "stdout",
     "output_type": "stream",
     "text": [
      "     Title                               Content                           \n",
      "0  Document 1  This is the first document. It contains some words.         \n",
      "1  Document 2  The second document is a bit longer and has different words.\n",
      "2  Document 3  The third document is short. Short documents can be concise.\n"
     ]
    }
   ],
   "source": [
    "# read csv file \n",
    "import pandas as pd\n",
    "df = pd.read_csv('tdoc.csv', header= None, names=['Title', 'Content'])\n",
    "pd.options.display.colheader_justify=\"center\"\n",
    "df['Content'] = df['Content'].str.ljust(60)\n",
    "print(df.to_string())"
   ]
  },
  {
   "cell_type": "code",
   "execution_count": 44,
   "metadata": {},
   "outputs": [
    {
     "name": "stdout",
     "output_type": "stream",
     "text": [
      "Title: \n",
      "\n"
     ]
    },
    {
     "data": {
      "text/plain": [
       "['Document 1', 'Document 2', 'Document 3']"
      ]
     },
     "execution_count": 44,
     "metadata": {},
     "output_type": "execute_result"
    }
   ],
   "source": [
    "# dispale title & content\n",
    "print('Title: \\n')\n",
    "list(df['Title'])"
   ]
  },
  {
   "cell_type": "code",
   "execution_count": 62,
   "id": "c6db813b",
   "metadata": {},
   "outputs": [
    {
     "name": "stdout",
     "output_type": "stream",
     "text": [
      "['Document']\n",
      "['Document']\n",
      "['Document']\n"
     ]
    }
   ],
   "source": [
    "# extract category from title\n",
    "for category in df['Title']:\n",
    "    category = [category.split(' ')[0]]\n",
    "    print(category)"
   ]
  },
  {
   "cell_type": "code",
   "execution_count": 64,
   "id": "25e0df1e",
   "metadata": {},
   "outputs": [
    {
     "name": "stdout",
     "output_type": "stream",
     "text": [
      "['1']\n",
      "['2']\n",
      "['3']\n"
     ]
    }
   ],
   "source": [
    "# extract key from title\n",
    "for key_title in df['Title']:\n",
    "    key_title = [key_title.split(' ')[1]]\n",
    "    print(key_title)"
   ]
  },
  {
   "cell_type": "code",
   "execution_count": 43,
   "metadata": {},
   "outputs": [
    {
     "name": "stdout",
     "output_type": "stream",
     "text": [
      "Contenet: \n",
      "\n"
     ]
    },
    {
     "data": {
      "text/plain": [
       "['This is the first document. It contains some words.         ',\n",
       " 'The second document is a bit longer and has different words.',\n",
       " 'The third document is short. Short documents can be concise.']"
      ]
     },
     "execution_count": 43,
     "metadata": {},
     "output_type": "execute_result"
    }
   ],
   "source": [
    "#disply content\n",
    "print('Contenet: \\n')\n",
    "list(df['Content'])"
   ]
  },
  {
   "cell_type": "code",
   "execution_count": 59,
   "metadata": {},
   "outputs": [
    {
     "data": {
      "text/plain": [
       "['This',\n",
       " 'is',\n",
       " 'the',\n",
       " 'first',\n",
       " 'document.',\n",
       " 'It',\n",
       " 'contains',\n",
       " 'some',\n",
       " 'words.',\n",
       " 'The',\n",
       " 'second',\n",
       " 'document',\n",
       " 'is',\n",
       " 'a',\n",
       " 'bit',\n",
       " 'longer',\n",
       " 'and',\n",
       " 'has',\n",
       " 'different',\n",
       " 'words.',\n",
       " 'The',\n",
       " 'third',\n",
       " 'document',\n",
       " 'is',\n",
       " 'short.',\n",
       " 'Short',\n",
       " 'documents',\n",
       " 'can',\n",
       " 'be',\n",
       " 'concise.']"
      ]
     },
     "execution_count": 59,
     "metadata": {},
     "output_type": "execute_result"
    }
   ],
   "source": [
    "# unique term\n",
    "unique_terms = [term for doc in df['Content'] for term in doc.split()] \n",
    "unique_terms"
   ]
  },
  {
   "cell_type": "code",
   "execution_count": 72,
   "id": "4ace3b2e",
   "metadata": {},
   "outputs": [],
   "source": [
    "# save to csv file\n",
    "import pandas as pd\n",
    "df = pd.DataFrame(unique_terms)\n",
    "df.to_csv('tdoc1.csv', header=None, index=None)\n"
   ]
  }
 ],
 "metadata": {
  "kernelspec": {
   "display_name": "base",
   "language": "python",
   "name": "python3"
  },
  "language_info": {
   "codemirror_mode": {
    "name": "ipython",
    "version": 3
   },
   "file_extension": ".py",
   "mimetype": "text/x-python",
   "name": "python",
   "nbconvert_exporter": "python",
   "pygments_lexer": "ipython3",
   "version": "3.11.5"
  }
 },
 "nbformat": 4,
 "nbformat_minor": 5
}
